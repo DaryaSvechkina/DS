{
 "cells": [
  {
   "cell_type": "markdown",
   "metadata": {
    "_uuid": "945c0f151b28ca53b79e0f7cf5b107af959a3370"
   },
   "source": [
    "<center>\n",
    "<img src=\"https://habrastorage.org/files/fd4/502/43d/fd450243dd604b81b9713213a247aa20.jpg\">\n",
    "\n",
    "## [mlcourse.ai](https://mlcourse.ai) - Open Machine Learning Course\n",
    "    \n",
    "Authors: [Ilya Baryshnikov](https://www.linkedin.com/in/baryshnikov-ilya/), [Maxim Uvarov](https://www.linkedin.com/in/maxis42/), and [Yury Kashnitsky](https://www.linkedin.com/in/festline/). Translated and edited by [Inga Kaydanova](https://www.linkedin.com/in/inga-kaidanova-a92398b1/), [Egor Polusmak](https://www.linkedin.com/in/egor-polusmak/), [Anastasia Manokhina](https://www.linkedin.com/in/anastasiamanokhina/), and [Yuanyuan Pao](https://www.linkedin.com/in/yuanyuanpao/). All content is distributed under the [Creative Commons CC BY-NC-SA 4.0](https://creativecommons.org/licenses/by-nc-sa/4.0/) license."
   ]
  },
  {
   "cell_type": "markdown",
   "metadata": {
    "_uuid": "66409c8728e75df39a1390bcb634ae50c6b37652",
    "collapsed": true
   },
   "source": [
    "# <center>Assignment #2 (demo)\n",
    "## <center>Analyzing cardiovascular disease data "
   ]
  },
  {
   "cell_type": "markdown",
   "metadata": {
    "_uuid": "5cea59b8adb04c5a07a32c5b70a829319ba0cf2a"
   },
   "source": [
    "In this assignment, you will answer questions about a dataset on cardiovascular disease. You do not need to download the data: it is already in the repository. There are some Tasks that will require you to write code. Complete them and then answer the questions in the [form](https://docs.google.com/forms/d/13cE_tSIb6hsScQvvWUJeu1MEHE5L6vnxQUbDYpXsf24). \n",
    "\n",
    "#### Problem\n",
    "\n",
    "Predict the presence or absence of cardiovascular disease (CVD) using the patient examination results.\n",
    "\n",
    "#### Data description\n",
    "\n",
    "There are 3 types of input features:\n",
    "\n",
    "- *Objective*: factual information;\n",
    "- *Examination*: results of medical examination;\n",
    "- *Subjective*: information given by the patient.\n",
    "\n",
    "| Feature | Variable Type | Variable      | Value Type |\n",
    "|---------|--------------|---------------|------------|\n",
    "| Age | Objective Feature | age | int (days) |\n",
    "| Height | Objective Feature | height | int (cm) |\n",
    "| Weight | Objective Feature | weight | float (kg) |\n",
    "| Gender | Objective Feature | gender | categorical code |\n",
    "| Systolic blood pressure | Examination Feature | ap_hi | int |\n",
    "| Diastolic blood pressure | Examination Feature | ap_lo | int |\n",
    "| Cholesterol | Examination Feature | cholesterol | 1: normal, 2: above normal, 3: well above normal |\n",
    "| Glucose | Examination Feature | gluc | 1: normal, 2: above normal, 3: well above normal |\n",
    "| Smoking | Subjective Feature | smoke | binary |\n",
    "| Alcohol intake | Subjective Feature | alco | binary |\n",
    "| Physical activity | Subjective Feature | active | binary |\n",
    "| Presence or absence of cardiovascular disease | Target Variable | cardio | binary |\n",
    "\n",
    "All of the dataset values were collected at the moment of medical examination."
   ]
  },
  {
   "cell_type": "markdown",
   "metadata": {
    "_uuid": "10749a7f9b46749e3a90ff697bc298760045c333"
   },
   "source": [
    "Let's get to know our data by performing a preliminary data analysis.\n",
    "\n",
    "#  Part 1. Preliminary data analysis\n",
    "\n",
    "First, we will initialize the environment:"
   ]
  },
  {
   "cell_type": "code",
   "execution_count": 1,
   "metadata": {
    "_uuid": "85426734e890fcf72416f29a953da115c1171080"
   },
   "outputs": [],
   "source": [
    "# Import all required modules\n",
    "import pandas as pd\n",
    "import numpy as np\n",
    "\n",
    "# Disable warnings\n",
    "import warnings\n",
    "warnings.filterwarnings(\"ignore\")\n",
    "\n",
    "# Import plotting modules\n",
    "import seaborn as sns\n",
    "sns.set()\n",
    "import matplotlib\n",
    "import matplotlib.pyplot as plt\n",
    "import matplotlib.ticker\n",
    "%matplotlib inline"
   ]
  },
  {
   "cell_type": "markdown",
   "metadata": {
    "_uuid": "cbcf821e4bea8a7f7fb1ee4a9bf285b6c4b588ee"
   },
   "source": [
    "You will use the `seaborn` library for visual analysis, so let's set that up too:"
   ]
  },
  {
   "cell_type": "code",
   "execution_count": 2,
   "metadata": {
    "_uuid": "b33601a0cadc2fb2d92f211c31bf99a502f71d48"
   },
   "outputs": [],
   "source": [
    "# Tune the visual settings for figures in `seaborn`\n",
    "sns.set_context(\n",
    "    \"notebook\", \n",
    "    font_scale=1.5,       \n",
    "    rc={ \n",
    "        \"figure.figsize\": (11, 8), \n",
    "        \"axes.titlesize\": 18 \n",
    "    }\n",
    ")\n",
    "\n",
    "from matplotlib import rcParams\n",
    "rcParams['figure.figsize'] = 11, 8"
   ]
  },
  {
   "cell_type": "markdown",
   "metadata": {
    "_uuid": "89381351e4b95530b355e0e55bc4536c0a813d10"
   },
   "source": [
    "To make it simple, we will work only with the training part of the dataset:"
   ]
  },
  {
   "cell_type": "code",
   "execution_count": 3,
   "metadata": {
    "_uuid": "2bd0005e660693a061577ca5244b48ccebf36719"
   },
   "outputs": [
    {
     "name": "stdout",
     "output_type": "stream",
     "text": [
      "Dataset size:  (70000, 13)\n"
     ]
    },
    {
     "data": {
      "text/html": [
       "<div>\n",
       "<style scoped>\n",
       "    .dataframe tbody tr th:only-of-type {\n",
       "        vertical-align: middle;\n",
       "    }\n",
       "\n",
       "    .dataframe tbody tr th {\n",
       "        vertical-align: top;\n",
       "    }\n",
       "\n",
       "    .dataframe thead th {\n",
       "        text-align: right;\n",
       "    }\n",
       "</style>\n",
       "<table border=\"1\" class=\"dataframe\">\n",
       "  <thead>\n",
       "    <tr style=\"text-align: right;\">\n",
       "      <th></th>\n",
       "      <th>id</th>\n",
       "      <th>age</th>\n",
       "      <th>gender</th>\n",
       "      <th>height</th>\n",
       "      <th>weight</th>\n",
       "      <th>ap_hi</th>\n",
       "      <th>ap_lo</th>\n",
       "      <th>cholesterol</th>\n",
       "      <th>gluc</th>\n",
       "      <th>smoke</th>\n",
       "      <th>alco</th>\n",
       "      <th>active</th>\n",
       "      <th>cardio</th>\n",
       "    </tr>\n",
       "  </thead>\n",
       "  <tbody>\n",
       "    <tr>\n",
       "      <td>0</td>\n",
       "      <td>0</td>\n",
       "      <td>18393</td>\n",
       "      <td>2</td>\n",
       "      <td>168</td>\n",
       "      <td>62.0</td>\n",
       "      <td>110</td>\n",
       "      <td>80</td>\n",
       "      <td>1</td>\n",
       "      <td>1</td>\n",
       "      <td>0</td>\n",
       "      <td>0</td>\n",
       "      <td>1</td>\n",
       "      <td>0</td>\n",
       "    </tr>\n",
       "    <tr>\n",
       "      <td>1</td>\n",
       "      <td>1</td>\n",
       "      <td>20228</td>\n",
       "      <td>1</td>\n",
       "      <td>156</td>\n",
       "      <td>85.0</td>\n",
       "      <td>140</td>\n",
       "      <td>90</td>\n",
       "      <td>3</td>\n",
       "      <td>1</td>\n",
       "      <td>0</td>\n",
       "      <td>0</td>\n",
       "      <td>1</td>\n",
       "      <td>1</td>\n",
       "    </tr>\n",
       "    <tr>\n",
       "      <td>2</td>\n",
       "      <td>2</td>\n",
       "      <td>18857</td>\n",
       "      <td>1</td>\n",
       "      <td>165</td>\n",
       "      <td>64.0</td>\n",
       "      <td>130</td>\n",
       "      <td>70</td>\n",
       "      <td>3</td>\n",
       "      <td>1</td>\n",
       "      <td>0</td>\n",
       "      <td>0</td>\n",
       "      <td>0</td>\n",
       "      <td>1</td>\n",
       "    </tr>\n",
       "    <tr>\n",
       "      <td>3</td>\n",
       "      <td>3</td>\n",
       "      <td>17623</td>\n",
       "      <td>2</td>\n",
       "      <td>169</td>\n",
       "      <td>82.0</td>\n",
       "      <td>150</td>\n",
       "      <td>100</td>\n",
       "      <td>1</td>\n",
       "      <td>1</td>\n",
       "      <td>0</td>\n",
       "      <td>0</td>\n",
       "      <td>1</td>\n",
       "      <td>1</td>\n",
       "    </tr>\n",
       "    <tr>\n",
       "      <td>4</td>\n",
       "      <td>4</td>\n",
       "      <td>17474</td>\n",
       "      <td>1</td>\n",
       "      <td>156</td>\n",
       "      <td>56.0</td>\n",
       "      <td>100</td>\n",
       "      <td>60</td>\n",
       "      <td>1</td>\n",
       "      <td>1</td>\n",
       "      <td>0</td>\n",
       "      <td>0</td>\n",
       "      <td>0</td>\n",
       "      <td>0</td>\n",
       "    </tr>\n",
       "  </tbody>\n",
       "</table>\n",
       "</div>"
      ],
      "text/plain": [
       "   id    age  gender  height  weight  ap_hi  ap_lo  cholesterol  gluc  smoke  \\\n",
       "0   0  18393       2     168    62.0    110     80            1     1      0   \n",
       "1   1  20228       1     156    85.0    140     90            3     1      0   \n",
       "2   2  18857       1     165    64.0    130     70            3     1      0   \n",
       "3   3  17623       2     169    82.0    150    100            1     1      0   \n",
       "4   4  17474       1     156    56.0    100     60            1     1      0   \n",
       "\n",
       "   alco  active  cardio  \n",
       "0     0       1       0  \n",
       "1     0       1       1  \n",
       "2     0       0       1  \n",
       "3     0       1       1  \n",
       "4     0       0       0  "
      ]
     },
     "execution_count": 3,
     "metadata": {},
     "output_type": "execute_result"
    }
   ],
   "source": [
    "df = pd.read_csv('mlbootcamp5_train.csv')\n",
    "print('Dataset size: ', df.shape)\n",
    "df.head()"
   ]
  },
  {
   "cell_type": "markdown",
   "metadata": {
    "_uuid": "636bf459023fbc1d1f1b73863c5246397dc26e6d"
   },
   "source": [
    "It would be instructive to peek into the values of our variables.\n",
    " \n",
    "Let's convert the data into *long* format and depict the value counts of the categorical features using [`factorplot()`](https://seaborn.pydata.org/generated/seaborn.factorplot.html)."
   ]
  },
  {
   "cell_type": "code",
   "execution_count": 4,
   "metadata": {
    "_uuid": "334ad6a83e7bb58f2c65ec512bfc401a0948c17a"
   },
   "outputs": [
    {
     "data": {
      "image/png": "[encoded data removed]",
      "text/plain": [
       "<Figure size 932.65x864 with 1 Axes>"
      ]
     },
     "metadata": {
      "needs_background": "light"
     },
     "output_type": "display_data"
    }
   ],
   "source": [
    "df_uniques = pd.melt(frame=df, value_vars=['gender','cholesterol', \n",
    "                                           'gluc', 'smoke', 'alco', \n",
    "                                           'active', 'cardio'])\n",
    "df_uniques = pd.DataFrame(df_uniques.groupby(['variable', \n",
    "                                              'value'])['value'].count()) \\\n",
    "    .sort_index(level=[0, 1]) \\\n",
    "    .rename(columns={'value': 'count'}) \\\n",
    "    .reset_index()\n",
    "\n",
    "sns.factorplot(x='variable', y='count', hue='value', \n",
    "               data=df_uniques, kind='bar', size=12);"
   ]
  },
  {
   "cell_type": "markdown",
   "metadata": {
    "_uuid": "cb94ec9ddf78c607cdec5536581b8ec4004ac16b",
    "collapsed": true
   },
   "source": [
    "We can see that the target classes are balanced. That's great!\n",
    "\n",
    "Let's split the dataset by target values. Can you already spot the most significant feature by just looking at the plot?"
   ]
  },
  {
   "cell_type": "code",
   "execution_count": 5,
   "metadata": {
    "_uuid": "a712d76f8c11588a9aebd4be6a00f01c53a8d80a"
   },
   "outputs": [
    {
     "data": {
      "image/png": "[encoded data removed]",
      "text/plain": [
       "<Figure size 1364.65x648 with 2 Axes>"
      ]
     },
     "metadata": {
      "needs_background": "light"
     },
     "output_type": "display_data"
    }
   ],
   "source": [
    "df_uniques = pd.melt(frame=df, value_vars=['gender','cholesterol', \n",
    "                                           'gluc', 'smoke', 'alco', \n",
    "                                           'active'], \n",
    "                     id_vars=['cardio'])\n",
    "df_uniques = pd.DataFrame(df_uniques.groupby(['variable', 'value', \n",
    "                                              'cardio'])['value'].count()) \\\n",
    "    .sort_index(level=[0, 1]) \\\n",
    "    .rename(columns={'value': 'count'}) \\\n",
    "    .reset_index()\n",
    "\n",
    "sns.factorplot(x='variable', y='count', hue='value', \n",
    "               col='cardio', data=df_uniques, kind='bar', size=9);"
   ]
  },
  {
   "cell_type": "markdown",
   "metadata": {
    "_uuid": "4f4fdb7b979c6594b3060a0b80473fabbdf6acd0"
   },
   "source": [
    "You can see that the distribution of cholesterol and glucose levels great differs by the value of the target variable. Is this a coincidence?\n",
    "\n",
    "Now, let's calculate some statistics for the feature unique values:"
   ]
  },
  {
   "cell_type": "code",
   "execution_count": 6,
   "metadata": {
    "_uuid": "e9cbba719f93f6b544567638be7332b7385fc715"
   },
   "outputs": [
    {
     "name": "stdout",
     "output_type": "stream",
     "text": [
      "id\n",
      "70000\n",
      "----------\n",
      "age\n",
      "8076\n",
      "----------\n",
      "gender\n",
      "2 [(1, 45530), (2, 24470)]\n",
      "----------\n",
      "height\n",
      "109\n",
      "----------\n",
      "weight\n",
      "287\n",
      "----------\n",
      "ap_hi\n",
      "153\n",
      "----------\n",
      "ap_lo\n",
      "157\n",
      "----------\n",
      "cholesterol\n",
      "3 [(1, 52385), (2, 9549), (3, 8066)]\n",
      "----------\n",
      "gluc\n",
      "3 [(1, 59479), (2, 5190), (3, 5331)]\n",
      "----------\n",
      "smoke\n",
      "2 [(0, 63831), (1, 6169)]\n",
      "----------\n",
      "alco\n",
      "2 [(0, 66236), (1, 3764)]\n",
      "----------\n",
      "active\n",
      "2 [(0, 13739), (1, 56261)]\n",
      "----------\n",
      "cardio\n",
      "2 [(0, 35021), (1, 34979)]\n",
      "----------\n"
     ]
    }
   ],
   "source": [
    "for c in df.columns:\n",
    "    n = df[c].nunique()\n",
    "    print(c)\n",
    "    if n <= 3:\n",
    "        print(n, sorted(df[c].value_counts().to_dict().items()))\n",
    "    else:\n",
    "        print(n)\n",
    "    print(10 * '-')"
   ]
  },
  {
   "cell_type": "markdown",
   "metadata": {
    "_uuid": "53507160b237077bf8b19fb987b910669c04ba8b"
   },
   "source": [
    "In the end, we have:\n",
    "- 5 numerical features (excluding *id*);\n",
    "- 7 categorical features;\n",
    "- 70000 records in total."
   ]
  },
  {
   "cell_type": "markdown",
   "metadata": {
    "_uuid": "5f9dc83567c83c1ab2eeb4b855d3f8460c1a735e"
   },
   "source": [
    "## 1.1. Basic observations"
   ]
  },
  {
   "cell_type": "markdown",
   "metadata": {},
   "source": [
    "**Question 1.1. (1 point). How many men and women are present in this dataset? Values of the `gender` feature were not given (whether \"1\" stands for women or for men) – figure this out by looking analyzing height, making the assumption that men are taller on average. **\n",
    "1. 45530 women and 24470 men\n",
    "2. 45530 men and 24470 women\n",
    "3. 45470 women and 24530 men\n",
    "4. 45470 men and 24530 women"
   ]
  },
  {
   "cell_type": "code",
   "execution_count": 7,
   "metadata": {},
   "outputs": [
    {
     "data": {
      "image/png": "[encoded data removed]",
      "text/plain": [
       "<Figure size 792x576 with 1 Axes>"
      ]
     },
     "metadata": {
      "needs_background": "light"
     },
     "output_type": "display_data"
    }
   ],
   "source": [
    "sns.boxplot(x='gender', y='height', data=df);"
   ]
  },
  {
   "cell_type": "code",
   "execution_count": 8,
   "metadata": {},
   "outputs": [
    {
     "data": {
      "text/plain": [
       "1    45530\n",
       "2    24470\n",
       "Name: gender, dtype: int64"
      ]
     },
     "execution_count": 8,
     "metadata": {},
     "output_type": "execute_result"
    }
   ],
   "source": [
    "df[\"gender\"].value_counts() "
   ]
  },
  {
   "cell_type": "code",
   "execution_count": 9,
   "metadata": {},
   "outputs": [],
   "source": [
    "#Men are usually higher, 1 stands for women, 2 stands for men. Answer is 45530 women and 24470 men"
   ]
  },
  {
   "cell_type": "markdown",
   "metadata": {
    "_uuid": "d6b36cf91cd63fcce92c4177475820bd6b94ec89"
   },
   "source": [
    "**Question 1.2. (1 point). Which gender more often reports consuming alcohol - men or women?**\n",
    "1. women\n",
    "2. men"
   ]
  },
  {
   "cell_type": "code",
   "execution_count": 10,
   "metadata": {},
   "outputs": [
    {
     "data": {
      "text/html": [
       "<div>\n",
       "<style scoped>\n",
       "    .dataframe tbody tr th:only-of-type {\n",
       "        vertical-align: middle;\n",
       "    }\n",
       "\n",
       "    .dataframe tbody tr th {\n",
       "        vertical-align: top;\n",
       "    }\n",
       "\n",
       "    .dataframe thead th {\n",
       "        text-align: right;\n",
       "    }\n",
       "</style>\n",
       "<table border=\"1\" class=\"dataframe\">\n",
       "  <thead>\n",
       "    <tr style=\"text-align: right;\">\n",
       "      <th>alco</th>\n",
       "      <th>0</th>\n",
       "      <th>1</th>\n",
       "    </tr>\n",
       "    <tr>\n",
       "      <th>gender</th>\n",
       "      <th></th>\n",
       "      <th></th>\n",
       "    </tr>\n",
       "  </thead>\n",
       "  <tbody>\n",
       "    <tr>\n",
       "      <td>1</td>\n",
       "      <td>44369</td>\n",
       "      <td>1161</td>\n",
       "    </tr>\n",
       "    <tr>\n",
       "      <td>2</td>\n",
       "      <td>21867</td>\n",
       "      <td>2603</td>\n",
       "    </tr>\n",
       "  </tbody>\n",
       "</table>\n",
       "</div>"
      ],
      "text/plain": [
       "alco        0     1\n",
       "gender             \n",
       "1       44369  1161\n",
       "2       21867  2603"
      ]
     },
     "execution_count": 10,
     "metadata": {},
     "output_type": "execute_result"
    }
   ],
   "source": [
    "pd.crosstab(df[\"gender\"], df[\"alco\"])"
   ]
  },
  {
   "cell_type": "code",
   "execution_count": 11,
   "metadata": {},
   "outputs": [],
   "source": [
    "#Men more often report to consume alcohol"
   ]
  },
  {
   "cell_type": "markdown",
   "metadata": {
    "_uuid": "8b98389e26edd01374d6217d8dd1e2d5ffff9d1c"
   },
   "source": [
    "**Question 1.3. (1 point). What is the difference between the percentages of smokers among men and women (rounded)?**\n",
    "1. 4\n",
    "2. 16\n",
    "3. 20\n",
    "4. 24"
   ]
  },
  {
   "cell_type": "code",
   "execution_count": 12,
   "metadata": {},
   "outputs": [
    {
     "data": {
      "text/html": [
       "<div>\n",
       "<style scoped>\n",
       "    .dataframe tbody tr th:only-of-type {\n",
       "        vertical-align: middle;\n",
       "    }\n",
       "\n",
       "    .dataframe tbody tr th {\n",
       "        vertical-align: top;\n",
       "    }\n",
       "\n",
       "    .dataframe thead th {\n",
       "        text-align: right;\n",
       "    }\n",
       "</style>\n",
       "<table border=\"1\" class=\"dataframe\">\n",
       "  <thead>\n",
       "    <tr style=\"text-align: right;\">\n",
       "      <th>smoke</th>\n",
       "      <th>gender</th>\n",
       "      <th>0</th>\n",
       "      <th>1</th>\n",
       "    </tr>\n",
       "  </thead>\n",
       "  <tbody>\n",
       "    <tr>\n",
       "      <td>0</td>\n",
       "      <td>1</td>\n",
       "      <td>44717</td>\n",
       "      <td>813</td>\n",
       "    </tr>\n",
       "    <tr>\n",
       "      <td>1</td>\n",
       "      <td>2</td>\n",
       "      <td>19114</td>\n",
       "      <td>5356</td>\n",
       "    </tr>\n",
       "  </tbody>\n",
       "</table>\n",
       "</div>"
      ],
      "text/plain": [
       "smoke  gender      0     1\n",
       "0           1  44717   813\n",
       "1           2  19114  5356"
      ]
     },
     "execution_count": 12,
     "metadata": {},
     "output_type": "execute_result"
    }
   ],
   "source": [
    "df1 = pd.crosstab(df[\"gender\"], df[\"smoke\"]).reset_index()\n",
    "df1"
   ]
  },
  {
   "cell_type": "code",
   "execution_count": 13,
   "metadata": {},
   "outputs": [
    {
     "data": {
      "text/plain": [
       "20.102390309976737"
      ]
     },
     "execution_count": 13,
     "metadata": {},
     "output_type": "execute_result"
    }
   ],
   "source": [
    "(df1.loc[1,1]/(df1.loc[1,1]+df1.loc[1,0]) - df1.loc[0,1]/(df1.loc[0,1]+df1.loc[0,0])) * 100"
   ]
  },
  {
   "cell_type": "code",
   "execution_count": 14,
   "metadata": {},
   "outputs": [],
   "source": [
    "#The difference is 20%"
   ]
  },
  {
   "cell_type": "markdown",
   "metadata": {
    "_uuid": "c92554c5fe98a07b298cec98eaa2622a3bedbeeb"
   },
   "source": [
    "**Question 1.4. (1 point). What is the difference between median values of age for smokers and non-smokers (in months, rounded)? You'll need to figure out the units of feature `age` in this dataset.**\n",
    "\n",
    "1. 5\n",
    "2. 10\n",
    "3. 15\n",
    "4. 20"
   ]
  },
  {
   "cell_type": "code",
   "execution_count": 15,
   "metadata": {},
   "outputs": [
    {
     "data": {
      "text/plain": [
       "20.0"
      ]
     },
     "execution_count": 15,
     "metadata": {},
     "output_type": "execute_result"
    }
   ],
   "source": [
    "round((df.query(\"smoke == 0\")[\"age\"].median() - df.query(\"smoke == 1\")[\"age\"].median())/30, 0)"
   ]
  },
  {
   "cell_type": "code",
   "execution_count": 16,
   "metadata": {},
   "outputs": [],
   "source": [
    "#The difference is 20 months"
   ]
  },
  {
   "cell_type": "markdown",
   "metadata": {
    "_uuid": "ac5d59876eb97782eab5f038aa8b2335e014d9bf"
   },
   "source": [
    "## 1.2. Risk maps\n",
    "### Task:"
   ]
  },
  {
   "cell_type": "markdown",
   "metadata": {
    "_uuid": "9efc6fd8ff26ea2ddf95e7e0b70ef3b802f83af5"
   },
   "source": [
    "On the website for the European Society of Cardiology, a [SCORE scale](https://www.escardio.org/Education/Practice-Tools/CVD-prevention-toolbox/SCORE-Risk-Charts) is provided. It is used for calculating the risk of death from a cardiovascular decease in the next 10 years. Here it is:\n",
    "<img src=https://habrastorage.org/webt/ik/gx/hr/ikgxhr3w1vzqihgitgrbdorfb14.png width=30%>\n",
    "\n",
    "Let's take a look at the upper-right rectangle, which shows a subset of smoking men aged from 60 to 65. (It's not obvious, but the values in the figure represent the upper bound).\n",
    "\n",
    "We see the value 9 in the lower-left corner of the rectangle and 47 in the upper-right. This means that, for people in this gender-age group whose systolic pressure is less than 120, the risk of a CVD is estimated to be 5 times lower than for those with the pressure in the interval [160,180).\n",
    "\n",
    "Let's calculate that same ratio using our data.\n",
    "\n",
    "Clarifications:\n",
    "- Calculate ``age_years`` feature – round age to the nearest number of years. For this task, select only the people of age 60 to 64, inclusive.\n",
    "- Cholesterol level categories differ between the figure and our dataset. The conversion for the ``cholesterol`` feature is as follows: 4 mmol/l $\\rightarrow$ 1, 5-7 mmol/l $\\rightarrow$ 2, 8 mmol/l $\\rightarrow$ 3."
   ]
  },
  {
   "cell_type": "code",
   "execution_count": 17,
   "metadata": {},
   "outputs": [],
   "source": [
    "df[\"age_years\"] = round(df[\"age\"]/365,0).astype(int)"
   ]
  },
  {
   "cell_type": "code",
   "execution_count": 18,
   "metadata": {},
   "outputs": [],
   "source": [
    "smoking_old = df[(df[\"age_years\"]>=60) & (df[\"age_years\"]<65) & (df[\"gender\"]==2) & (df[\"smoke\"] == 1)]"
   ]
  },
  {
   "cell_type": "code",
   "execution_count": 19,
   "metadata": {},
   "outputs": [],
   "source": [
    "gr1 = smoking_old[(smoking_old[\"cholesterol\"] == 1) & (smoking_old[\"ap_hi\"] < 120)][\"cardio\"].mean()"
   ]
  },
  {
   "cell_type": "code",
   "execution_count": 20,
   "metadata": {},
   "outputs": [],
   "source": [
    "gr2 = smoking_old[(smoking_old[\"cholesterol\"] == 3) & (smoking_old[\"ap_hi\"] < 180) &  (smoking_old[\"ap_hi\"] >= 160)][\"cardio\"].mean()"
   ]
  },
  {
   "cell_type": "code",
   "execution_count": 21,
   "metadata": {},
   "outputs": [
    {
     "data": {
      "text/plain": [
       "3.0"
      ]
     },
     "execution_count": 21,
     "metadata": {},
     "output_type": "execute_result"
    }
   ],
   "source": [
    "round(gr2/gr1,0)"
   ]
  },
  {
   "cell_type": "markdown",
   "metadata": {},
   "source": [
    "**Question 1.5. (2 points). Calculate the fraction of the people with CVD for the two segments described above. What is the ratio of these two fractions?**\n",
    "\n",
    "1. 1\n",
    "2. 2\n",
    "3. 3\n",
    "4. 4"
   ]
  },
  {
   "cell_type": "code",
   "execution_count": 22,
   "metadata": {},
   "outputs": [],
   "source": [
    "#The fraction is 3"
   ]
  },
  {
   "cell_type": "markdown",
   "metadata": {
    "_uuid": "54cef692e0af3745091c7177d63a2d6c36044474"
   },
   "source": [
    "## 1.3. Analyzing BMI\n",
    "### Task:"
   ]
  },
  {
   "cell_type": "markdown",
   "metadata": {
    "_uuid": "c52b4b1c20956e3cc420bb13e7bb12d80aa3ef1a"
   },
   "source": [
    "Create a new feature – BMI ([Body Mass Index](https://en.wikipedia.org/wiki/Body_mass_index)). To do this, divide weight in kilogramms by the square of the height in meters. Normal BMI values are said to be from 18.5 to 25. "
   ]
  },
  {
   "cell_type": "code",
   "execution_count": 23,
   "metadata": {
    "_uuid": "5b3134f2597650ae95d0196393b30797518f0498"
   },
   "outputs": [],
   "source": [
    "df[\"BMI\"] = df[\"weight\"]/(df[\"height\"]/100)**2"
   ]
  },
  {
   "cell_type": "code",
   "execution_count": 24,
   "metadata": {},
   "outputs": [
    {
     "data": {
      "text/plain": [
       "26.374068120774975"
      ]
     },
     "execution_count": 24,
     "metadata": {},
     "output_type": "execute_result"
    }
   ],
   "source": [
    "df[\"BMI\"].median() #1 false"
   ]
  },
  {
   "cell_type": "code",
   "execution_count": 25,
   "metadata": {},
   "outputs": [
    {
     "data": {
      "text/plain": [
       "True"
      ]
     },
     "execution_count": 25,
     "metadata": {},
     "output_type": "execute_result"
    }
   ],
   "source": [
    "df[df[\"gender\"] == 1][\"BMI\"].median() > df[df[\"gender\"] == 2][\"BMI\"].median() #2 true"
   ]
  },
  {
   "cell_type": "code",
   "execution_count": 26,
   "metadata": {},
   "outputs": [
    {
     "data": {
      "text/html": [
       "<div>\n",
       "<style scoped>\n",
       "    .dataframe tbody tr th:only-of-type {\n",
       "        vertical-align: middle;\n",
       "    }\n",
       "\n",
       "    .dataframe tbody tr th {\n",
       "        vertical-align: top;\n",
       "    }\n",
       "\n",
       "    .dataframe thead th {\n",
       "        text-align: right;\n",
       "    }\n",
       "</style>\n",
       "<table border=\"1\" class=\"dataframe\">\n",
       "  <thead>\n",
       "    <tr style=\"text-align: right;\">\n",
       "      <th></th>\n",
       "      <th>id</th>\n",
       "      <th>age</th>\n",
       "      <th>gender</th>\n",
       "      <th>height</th>\n",
       "      <th>weight</th>\n",
       "      <th>ap_hi</th>\n",
       "      <th>ap_lo</th>\n",
       "      <th>cholesterol</th>\n",
       "      <th>gluc</th>\n",
       "      <th>smoke</th>\n",
       "      <th>alco</th>\n",
       "      <th>active</th>\n",
       "      <th>cardio</th>\n",
       "      <th>age_years</th>\n",
       "      <th>BMI</th>\n",
       "    </tr>\n",
       "  </thead>\n",
       "  <tbody>\n",
       "    <tr>\n",
       "      <td>0</td>\n",
       "      <td>0</td>\n",
       "      <td>18393</td>\n",
       "      <td>2</td>\n",
       "      <td>168</td>\n",
       "      <td>62.0</td>\n",
       "      <td>110</td>\n",
       "      <td>80</td>\n",
       "      <td>1</td>\n",
       "      <td>1</td>\n",
       "      <td>0</td>\n",
       "      <td>0</td>\n",
       "      <td>1</td>\n",
       "      <td>0</td>\n",
       "      <td>50</td>\n",
       "      <td>21.967120</td>\n",
       "    </tr>\n",
       "    <tr>\n",
       "      <td>1</td>\n",
       "      <td>1</td>\n",
       "      <td>20228</td>\n",
       "      <td>1</td>\n",
       "      <td>156</td>\n",
       "      <td>85.0</td>\n",
       "      <td>140</td>\n",
       "      <td>90</td>\n",
       "      <td>3</td>\n",
       "      <td>1</td>\n",
       "      <td>0</td>\n",
       "      <td>0</td>\n",
       "      <td>1</td>\n",
       "      <td>1</td>\n",
       "      <td>55</td>\n",
       "      <td>34.927679</td>\n",
       "    </tr>\n",
       "    <tr>\n",
       "      <td>2</td>\n",
       "      <td>2</td>\n",
       "      <td>18857</td>\n",
       "      <td>1</td>\n",
       "      <td>165</td>\n",
       "      <td>64.0</td>\n",
       "      <td>130</td>\n",
       "      <td>70</td>\n",
       "      <td>3</td>\n",
       "      <td>1</td>\n",
       "      <td>0</td>\n",
       "      <td>0</td>\n",
       "      <td>0</td>\n",
       "      <td>1</td>\n",
       "      <td>52</td>\n",
       "      <td>23.507805</td>\n",
       "    </tr>\n",
       "    <tr>\n",
       "      <td>3</td>\n",
       "      <td>3</td>\n",
       "      <td>17623</td>\n",
       "      <td>2</td>\n",
       "      <td>169</td>\n",
       "      <td>82.0</td>\n",
       "      <td>150</td>\n",
       "      <td>100</td>\n",
       "      <td>1</td>\n",
       "      <td>1</td>\n",
       "      <td>0</td>\n",
       "      <td>0</td>\n",
       "      <td>1</td>\n",
       "      <td>1</td>\n",
       "      <td>48</td>\n",
       "      <td>28.710479</td>\n",
       "    </tr>\n",
       "    <tr>\n",
       "      <td>4</td>\n",
       "      <td>4</td>\n",
       "      <td>17474</td>\n",
       "      <td>1</td>\n",
       "      <td>156</td>\n",
       "      <td>56.0</td>\n",
       "      <td>100</td>\n",
       "      <td>60</td>\n",
       "      <td>1</td>\n",
       "      <td>1</td>\n",
       "      <td>0</td>\n",
       "      <td>0</td>\n",
       "      <td>0</td>\n",
       "      <td>0</td>\n",
       "      <td>48</td>\n",
       "      <td>23.011177</td>\n",
       "    </tr>\n",
       "    <tr>\n",
       "      <td>...</td>\n",
       "      <td>...</td>\n",
       "      <td>...</td>\n",
       "      <td>...</td>\n",
       "      <td>...</td>\n",
       "      <td>...</td>\n",
       "      <td>...</td>\n",
       "      <td>...</td>\n",
       "      <td>...</td>\n",
       "      <td>...</td>\n",
       "      <td>...</td>\n",
       "      <td>...</td>\n",
       "      <td>...</td>\n",
       "      <td>...</td>\n",
       "      <td>...</td>\n",
       "      <td>...</td>\n",
       "    </tr>\n",
       "    <tr>\n",
       "      <td>69995</td>\n",
       "      <td>99993</td>\n",
       "      <td>19240</td>\n",
       "      <td>2</td>\n",
       "      <td>168</td>\n",
       "      <td>76.0</td>\n",
       "      <td>120</td>\n",
       "      <td>80</td>\n",
       "      <td>1</td>\n",
       "      <td>1</td>\n",
       "      <td>1</td>\n",
       "      <td>0</td>\n",
       "      <td>1</td>\n",
       "      <td>0</td>\n",
       "      <td>53</td>\n",
       "      <td>26.927438</td>\n",
       "    </tr>\n",
       "    <tr>\n",
       "      <td>69996</td>\n",
       "      <td>99995</td>\n",
       "      <td>22601</td>\n",
       "      <td>1</td>\n",
       "      <td>158</td>\n",
       "      <td>126.0</td>\n",
       "      <td>140</td>\n",
       "      <td>90</td>\n",
       "      <td>2</td>\n",
       "      <td>2</td>\n",
       "      <td>0</td>\n",
       "      <td>0</td>\n",
       "      <td>1</td>\n",
       "      <td>1</td>\n",
       "      <td>62</td>\n",
       "      <td>50.472681</td>\n",
       "    </tr>\n",
       "    <tr>\n",
       "      <td>69997</td>\n",
       "      <td>99996</td>\n",
       "      <td>19066</td>\n",
       "      <td>2</td>\n",
       "      <td>183</td>\n",
       "      <td>105.0</td>\n",
       "      <td>180</td>\n",
       "      <td>90</td>\n",
       "      <td>3</td>\n",
       "      <td>1</td>\n",
       "      <td>0</td>\n",
       "      <td>1</td>\n",
       "      <td>0</td>\n",
       "      <td>1</td>\n",
       "      <td>52</td>\n",
       "      <td>31.353579</td>\n",
       "    </tr>\n",
       "    <tr>\n",
       "      <td>69998</td>\n",
       "      <td>99998</td>\n",
       "      <td>22431</td>\n",
       "      <td>1</td>\n",
       "      <td>163</td>\n",
       "      <td>72.0</td>\n",
       "      <td>135</td>\n",
       "      <td>80</td>\n",
       "      <td>1</td>\n",
       "      <td>2</td>\n",
       "      <td>0</td>\n",
       "      <td>0</td>\n",
       "      <td>0</td>\n",
       "      <td>1</td>\n",
       "      <td>61</td>\n",
       "      <td>27.099251</td>\n",
       "    </tr>\n",
       "    <tr>\n",
       "      <td>69999</td>\n",
       "      <td>99999</td>\n",
       "      <td>20540</td>\n",
       "      <td>1</td>\n",
       "      <td>170</td>\n",
       "      <td>72.0</td>\n",
       "      <td>120</td>\n",
       "      <td>80</td>\n",
       "      <td>2</td>\n",
       "      <td>1</td>\n",
       "      <td>0</td>\n",
       "      <td>0</td>\n",
       "      <td>1</td>\n",
       "      <td>0</td>\n",
       "      <td>56</td>\n",
       "      <td>24.913495</td>\n",
       "    </tr>\n",
       "  </tbody>\n",
       "</table>\n",
       "<p>70000 rows × 15 columns</p>\n",
       "</div>"
      ],
      "text/plain": [
       "          id    age  gender  height  weight  ap_hi  ap_lo  cholesterol  gluc  \\\n",
       "0          0  18393       2     168    62.0    110     80            1     1   \n",
       "1          1  20228       1     156    85.0    140     90            3     1   \n",
       "2          2  18857       1     165    64.0    130     70            3     1   \n",
       "3          3  17623       2     169    82.0    150    100            1     1   \n",
       "4          4  17474       1     156    56.0    100     60            1     1   \n",
       "...      ...    ...     ...     ...     ...    ...    ...          ...   ...   \n",
       "69995  99993  19240       2     168    76.0    120     80            1     1   \n",
       "69996  99995  22601       1     158   126.0    140     90            2     2   \n",
       "69997  99996  19066       2     183   105.0    180     90            3     1   \n",
       "69998  99998  22431       1     163    72.0    135     80            1     2   \n",
       "69999  99999  20540       1     170    72.0    120     80            2     1   \n",
       "\n",
       "       smoke  alco  active  cardio  age_years        BMI  \n",
       "0          0     0       1       0         50  21.967120  \n",
       "1          0     0       1       1         55  34.927679  \n",
       "2          0     0       0       1         52  23.507805  \n",
       "3          0     0       1       1         48  28.710479  \n",
       "4          0     0       0       0         48  23.011177  \n",
       "...      ...   ...     ...     ...        ...        ...  \n",
       "69995      1     0       1       0         53  26.927438  \n",
       "69996      0     0       1       1         62  50.472681  \n",
       "69997      0     1       0       1         52  31.353579  \n",
       "69998      0     0       0       1         61  27.099251  \n",
       "69999      0     0       1       0         56  24.913495  \n",
       "\n",
       "[70000 rows x 15 columns]"
      ]
     },
     "execution_count": 26,
     "metadata": {},
     "output_type": "execute_result"
    }
   ],
   "source": [
    "df"
   ]
  },
  {
   "cell_type": "code",
   "execution_count": 27,
   "metadata": {},
   "outputs": [
    {
     "data": {
      "text/plain": [
       "False"
      ]
     },
     "execution_count": 27,
     "metadata": {},
     "output_type": "execute_result"
    }
   ],
   "source": [
    "df[df[\"cardio\"] == 0][\"BMI\"].median() > df[df[\"cardio\"] == 1][\"BMI\"].median() #3 false"
   ]
  },
  {
   "cell_type": "code",
   "execution_count": 28,
   "metadata": {},
   "outputs": [
    {
     "data": {
      "text/plain": [
       "True"
      ]
     },
     "execution_count": 28,
     "metadata": {},
     "output_type": "execute_result"
    }
   ],
   "source": [
    "df[(df[\"cardio\"] == 0) & (df[\"alco\"] == 0) & (df[\"gender\"] == 2)][\"BMI\"].median()\\\n",
    "< df[(df[\"cardio\"] == 0) & (df[\"alco\"] == 0) & (df[\"gender\"] == 1)][\"BMI\"].median() #4 true"
   ]
  },
  {
   "cell_type": "markdown",
   "metadata": {
    "_uuid": "1c2baed24cc5b3abb94b5c6c09d571f29b39213b"
   },
   "source": [
    "**Question 1.6. (2 points). Choose the correct statements:**\n",
    "\n",
    "1. Median BMI in the sample is within the range of normal BMI values.\n",
    "2. The BMI for women is on average higher than for men.\n",
    "3. Healthy people have, on average, a higher BMI than the people with CVD.\n",
    "4. For healthy, non-drinking men, BMI is closer to the norm than for healthy, non-drinking women"
   ]
  },
  {
   "cell_type": "markdown",
   "metadata": {
    "_uuid": "2e059032eee1d57c896e24a98b659a5ab16144fd"
   },
   "source": [
    "## 1.4. Cleaning data"
   ]
  },
  {
   "cell_type": "markdown",
   "metadata": {
    "_uuid": "26ccfbcb212c3631b4941a294906c027b974301a"
   },
   "source": [
    "### Task:\n",
    "We can see that the data is not perfect. It contains \"dirt\" and inaccuracies. We'll see this better as we visualize the data.\n",
    "\n",
    "Filter out the following patient segments (we consider these as erroneous data)\n",
    "\n",
    "- diastolic pressure is higher than systolic \n",
    "- height is strictly less than 2.5 percentile (Use `pd.Series.quantile` to compute this value. If you are not familiar with the function, please read the docs.)\n",
    "- height is strictly more than 97.5 percentile\n",
    "- weight is strictly less than 2.5 percentile\n",
    "- weight is strictly more than 97.5 percentile\n",
    "\n",
    "This is not everything that we can do to clean this data, but this is sufficient for now."
   ]
  },
  {
   "cell_type": "code",
   "execution_count": 29,
   "metadata": {},
   "outputs": [],
   "source": [
    "df[\"dif\"] = df[\"ap_hi\"] - df[\"ap_lo\"]"
   ]
  },
  {
   "cell_type": "code",
   "execution_count": 30,
   "metadata": {},
   "outputs": [],
   "source": [
    "df_clean = df[(df[\"dif\"]>=0) &\\\n",
    "((df[\"height\"] <= pd.Series.quantile(df[\"height\"], 0.975)) &\\\n",
    "(df[\"height\"] >= pd.Series.quantile(df[\"height\"], 0.025))) &\\\n",
    "((df[\"weight\"] <= pd.Series.quantile(df[\"weight\"], 0.975)) &\\\n",
    "(df[\"weight\"] >= pd.Series.quantile(df[\"weight\"], 0.025)))]"
   ]
  },
  {
   "cell_type": "code",
   "execution_count": 31,
   "metadata": {},
   "outputs": [
    {
     "data": {
      "text/plain": [
       "10.0"
      ]
     },
     "execution_count": 31,
     "metadata": {},
     "output_type": "execute_result"
    }
   ],
   "source": [
    "round((df.shape[0] - df_clean.shape[0])/df.shape[0] * 100, 0)"
   ]
  },
  {
   "cell_type": "code",
   "execution_count": 32,
   "metadata": {},
   "outputs": [],
   "source": [
    "#We threw away 10% of the original data"
   ]
  },
  {
   "cell_type": "markdown",
   "metadata": {
    "_uuid": "f807adaa6459d1c75d202bb973831369d6eeb20e"
   },
   "source": [
    "**Question 1.7. (2 points). What percent of the original data (rounded) did we throw away?**\n",
    "\n",
    "1. 8\n",
    "2. 9\n",
    "3. 10\n",
    "4. 11"
   ]
  },
  {
   "cell_type": "markdown",
   "metadata": {
    "_uuid": "a9f14b459f71ac2304e73145fc199a90131965e7"
   },
   "source": [
    "# Part 2. Visual data analysis\n",
    "\n",
    "## 2.1. Correlation matrix visualization\n",
    "\n",
    "To understand the features better, you can create a matrix of the correlation coefficients between the features. Use the initial dataset (non-filtered).\n",
    "\n",
    "### Task:\n",
    "\n",
    "Plot a correlation matrix using [`heatmap()`](http://seaborn.pydata.org/generated/seaborn.heatmap.html). You can create the matrix using the standard `pandas` tools with the default parameters."
   ]
  },
  {
   "cell_type": "code",
   "execution_count": 33,
   "metadata": {},
   "outputs": [
    {
     "data": {
      "text/html": [
       "<style  type=\"text/css\" >\n",
       "    #T_4d0985e2_821e_11ea_99b0_1008b1213b0erow0_col1 {\n",
       "            background-color:  #b40426;\n",
       "            color:  #f1f1f1;\n",
       "        }    #T_4d0985e2_821e_11ea_99b0_1008b1213b0erow1_col1 {\n",
       "            background-color:  #b2ccfb;\n",
       "            color:  #000000;\n",
       "        }    #T_4d0985e2_821e_11ea_99b0_1008b1213b0erow2_col1 {\n",
       "            background-color:  #3b4cc0;\n",
       "            color:  #f1f1f1;\n",
       "        }    #T_4d0985e2_821e_11ea_99b0_1008b1213b0erow3_col1 {\n",
       "            background-color:  #f7ad90;\n",
       "            color:  #000000;\n",
       "        }    #T_4d0985e2_821e_11ea_99b0_1008b1213b0erow4_col1 {\n",
       "            background-color:  #bbd1f8;\n",
       "            color:  #000000;\n",
       "        }    #T_4d0985e2_821e_11ea_99b0_1008b1213b0erow5_col1 {\n",
       "            background-color:  #5470de;\n",
       "            color:  #000000;\n",
       "        }</style><table id=\"T_4d0985e2_821e_11ea_99b0_1008b1213b0e\" ><thead>    <tr>        <th class=\"blank level0\" ></th>        <th class=\"col_heading level0 col0\" >index</th>        <th class=\"col_heading level0 col1\" >0</th>    </tr></thead><tbody>\n",
       "                <tr>\n",
       "                        <th id=\"T_4d0985e2_821e_11ea_99b0_1008b1213b0elevel0_row0\" class=\"row_heading level0 row0\" >3</th>\n",
       "                        <td id=\"T_4d0985e2_821e_11ea_99b0_1008b1213b0erow0_col0\" class=\"data row0 col0\" >height</td>\n",
       "                        <td id=\"T_4d0985e2_821e_11ea_99b0_1008b1213b0erow0_col1\" class=\"data row0 col1\" >0.499033</td>\n",
       "            </tr>\n",
       "            <tr>\n",
       "                        <th id=\"T_4d0985e2_821e_11ea_99b0_1008b1213b0elevel0_row1\" class=\"row_heading level0 row1\" >4</th>\n",
       "                        <td id=\"T_4d0985e2_821e_11ea_99b0_1008b1213b0erow1_col0\" class=\"data row1 col0\" >weight</td>\n",
       "                        <td id=\"T_4d0985e2_821e_11ea_99b0_1008b1213b0erow1_col1\" class=\"data row1 col1\" >0.155406</td>\n",
       "            </tr>\n",
       "            <tr>\n",
       "                        <th id=\"T_4d0985e2_821e_11ea_99b0_1008b1213b0elevel0_row2\" class=\"row_heading level0 row2\" >7</th>\n",
       "                        <td id=\"T_4d0985e2_821e_11ea_99b0_1008b1213b0erow2_col0\" class=\"data row2 col0\" >cholesterol</td>\n",
       "                        <td id=\"T_4d0985e2_821e_11ea_99b0_1008b1213b0erow2_col1\" class=\"data row2 col1\" >-0.0358214</td>\n",
       "            </tr>\n",
       "            <tr>\n",
       "                        <th id=\"T_4d0985e2_821e_11ea_99b0_1008b1213b0elevel0_row3\" class=\"row_heading level0 row3\" >9</th>\n",
       "                        <td id=\"T_4d0985e2_821e_11ea_99b0_1008b1213b0erow3_col0\" class=\"data row3 col0\" >smoke</td>\n",
       "                        <td id=\"T_4d0985e2_821e_11ea_99b0_1008b1213b0erow3_col1\" class=\"data row3 col1\" >0.338135</td>\n",
       "            </tr>\n",
       "            <tr>\n",
       "                        <th id=\"T_4d0985e2_821e_11ea_99b0_1008b1213b0elevel0_row4\" class=\"row_heading level0 row4\" >10</th>\n",
       "                        <td id=\"T_4d0985e2_821e_11ea_99b0_1008b1213b0erow4_col0\" class=\"data row4 col0\" >alco</td>\n",
       "                        <td id=\"T_4d0985e2_821e_11ea_99b0_1008b1213b0erow4_col1\" class=\"data row4 col1\" >0.170966</td>\n",
       "            </tr>\n",
       "            <tr>\n",
       "                        <th id=\"T_4d0985e2_821e_11ea_99b0_1008b1213b0elevel0_row5\" class=\"row_heading level0 row5\" >12</th>\n",
       "                        <td id=\"T_4d0985e2_821e_11ea_99b0_1008b1213b0erow5_col0\" class=\"data row5 col0\" >cardio</td>\n",
       "                        <td id=\"T_4d0985e2_821e_11ea_99b0_1008b1213b0erow5_col1\" class=\"data row5 col1\" >0.00810949</td>\n",
       "            </tr>\n",
       "    </tbody></table>"
      ],
      "text/plain": [
       "<pandas.io.formats.style.Styler at 0x20f055cc6c8>"
      ]
     },
     "execution_count": 33,
     "metadata": {},
     "output_type": "execute_result"
    }
   ],
   "source": [
    "corr = pd.DataFrame(df.corrwith(df[\"gender\"])).reset_index().query(\"index == 'height' | index == 'weight'| index == 'smoke' | index == 'alco'|index == 'cardio' | index == 'cholesterol' \" )\n",
    "corr.style.background_gradient(cmap='coolwarm')"
   ]
  },
  {
   "cell_type": "markdown",
   "metadata": {
    "_uuid": "987ff630db004c51cc9e89e0c6cf6d14d619c4c0"
   },
   "source": [
    "** Question 2.1. (1 point).** Which pair of features has the strongest Pearson's correlation with the *gender* feature?\n",
    "\n",
    "1. Cardio, Cholesterol\n",
    "2. Height, Smoke\n",
    "3. Smoke, Alco\n",
    "4. Height, Weight"
   ]
  },
  {
   "cell_type": "code",
   "execution_count": 34,
   "metadata": {},
   "outputs": [],
   "source": [
    "# The strongest correlation has 2nd pair of features"
   ]
  },
  {
   "cell_type": "markdown",
   "metadata": {
    "_uuid": "01edf6a3a68f47f07164b3e4cb9e6ab5ef1efcd6"
   },
   "source": [
    "## 2.2. Height distribution of men and women\n",
    "\n",
    "From our exploration of the unique values earlier, we know that the gender is encoded by the values *1* and *2*. Although you do not know the mapping of these values to gender, you can figure that out graphically by looking at the mean values of height and weight for each value of the *gender* feature.\n",
    "\n",
    "### Task:\n",
    "\n",
    "Create a violin plot for the height and gender using [`violinplot()`](https://seaborn.pydata.org/generated/seaborn.violinplot.html). Use the parameters:\n",
    "- `hue` to split by gender;\n",
    "- `scale` to evaluate the number of records for each gender.\n",
    "\n",
    "In order for the plot to render correctly, you need to convert your `DataFrame` to *long* format using the `melt()` function from `pandas`. Here is [an example](https://stackoverflow.com/a/41575149/3338479) of this for your reference."
   ]
  },
  {
   "cell_type": "code",
   "execution_count": 35,
   "metadata": {
    "_uuid": "71d38ccddbe26ca51c69fbdba7cc4405ee459de4"
   },
   "outputs": [],
   "source": [
    "df_melt = pd.melt(frame=df, value_vars=['height'], \n",
    "                     id_vars=['gender'])"
   ]
  },
  {
   "cell_type": "code",
   "execution_count": 36,
   "metadata": {},
   "outputs": [
    {
     "data": {
      "text/html": [
       "<div>\n",
       "<style scoped>\n",
       "    .dataframe tbody tr th:only-of-type {\n",
       "        vertical-align: middle;\n",
       "    }\n",
       "\n",
       "    .dataframe tbody tr th {\n",
       "        vertical-align: top;\n",
       "    }\n",
       "\n",
       "    .dataframe thead th {\n",
       "        text-align: right;\n",
       "    }\n",
       "</style>\n",
       "<table border=\"1\" class=\"dataframe\">\n",
       "  <thead>\n",
       "    <tr style=\"text-align: right;\">\n",
       "      <th></th>\n",
       "      <th>gender</th>\n",
       "      <th>variable</th>\n",
       "      <th>value</th>\n",
       "    </tr>\n",
       "  </thead>\n",
       "  <tbody>\n",
       "    <tr>\n",
       "      <td>0</td>\n",
       "      <td>2</td>\n",
       "      <td>height</td>\n",
       "      <td>168</td>\n",
       "    </tr>\n",
       "    <tr>\n",
       "      <td>1</td>\n",
       "      <td>1</td>\n",
       "      <td>height</td>\n",
       "      <td>156</td>\n",
       "    </tr>\n",
       "    <tr>\n",
       "      <td>2</td>\n",
       "      <td>1</td>\n",
       "      <td>height</td>\n",
       "      <td>165</td>\n",
       "    </tr>\n",
       "    <tr>\n",
       "      <td>3</td>\n",
       "      <td>2</td>\n",
       "      <td>height</td>\n",
       "      <td>169</td>\n",
       "    </tr>\n",
       "    <tr>\n",
       "      <td>4</td>\n",
       "      <td>1</td>\n",
       "      <td>height</td>\n",
       "      <td>156</td>\n",
       "    </tr>\n",
       "    <tr>\n",
       "      <td>...</td>\n",
       "      <td>...</td>\n",
       "      <td>...</td>\n",
       "      <td>...</td>\n",
       "    </tr>\n",
       "    <tr>\n",
       "      <td>69995</td>\n",
       "      <td>2</td>\n",
       "      <td>height</td>\n",
       "      <td>168</td>\n",
       "    </tr>\n",
       "    <tr>\n",
       "      <td>69996</td>\n",
       "      <td>1</td>\n",
       "      <td>height</td>\n",
       "      <td>158</td>\n",
       "    </tr>\n",
       "    <tr>\n",
       "      <td>69997</td>\n",
       "      <td>2</td>\n",
       "      <td>height</td>\n",
       "      <td>183</td>\n",
       "    </tr>\n",
       "    <tr>\n",
       "      <td>69998</td>\n",
       "      <td>1</td>\n",
       "      <td>height</td>\n",
       "      <td>163</td>\n",
       "    </tr>\n",
       "    <tr>\n",
       "      <td>69999</td>\n",
       "      <td>1</td>\n",
       "      <td>height</td>\n",
       "      <td>170</td>\n",
       "    </tr>\n",
       "  </tbody>\n",
       "</table>\n",
       "<p>70000 rows × 3 columns</p>\n",
       "</div>"
      ],
      "text/plain": [
       "       gender variable  value\n",
       "0           2   height    168\n",
       "1           1   height    156\n",
       "2           1   height    165\n",
       "3           2   height    169\n",
       "4           1   height    156\n",
       "...       ...      ...    ...\n",
       "69995       2   height    168\n",
       "69996       1   height    158\n",
       "69997       2   height    183\n",
       "69998       1   height    163\n",
       "69999       1   height    170\n",
       "\n",
       "[70000 rows x 3 columns]"
      ]
     },
     "execution_count": 36,
     "metadata": {},
     "output_type": "execute_result"
    }
   ],
   "source": [
    "df_melt "
   ]
  },
  {
   "cell_type": "code",
   "execution_count": 37,
   "metadata": {},
   "outputs": [
    {
     "data": {
      "text/plain": [
       "<matplotlib.axes._subplots.AxesSubplot at 0x20f05a97088>"
      ]
     },
     "execution_count": 37,
     "metadata": {},
     "output_type": "execute_result"
    },
    {
     "data": {
      "image/png": "[encoded data removed]",
      "text/plain": [
       "<Figure size 864x720 with 1 Axes>"
      ]
     },
     "metadata": {
      "needs_background": "light"
     },
     "output_type": "display_data"
    }
   ],
   "source": [
    "plt.figure(figsize=(12, 10))\n",
    "sns.violinplot(x = \"variable\", y = \"value\", hue = \"gender\", data = df_melt, split=True,  scale='count')"
   ]
  },
  {
   "cell_type": "code",
   "execution_count": 38,
   "metadata": {},
   "outputs": [
    {
     "data": {
      "text/html": [
       "<style  type=\"text/css\" >\n",
       "    #T_4f5a250a_821e_11ea_89de_1008b1213b0erow0_col0 {\n",
       "            background-color:  #b40426;\n",
       "            color:  #f1f1f1;\n",
       "        }    #T_4f5a250a_821e_11ea_89de_1008b1213b0erow0_col1 {\n",
       "            background-color:  #3b4cc0;\n",
       "            color:  #f1f1f1;\n",
       "        }    #T_4f5a250a_821e_11ea_89de_1008b1213b0erow0_col2 {\n",
       "            background-color:  #3b4cc0;\n",
       "            color:  #f1f1f1;\n",
       "        }    #T_4f5a250a_821e_11ea_89de_1008b1213b0erow0_col3 {\n",
       "            background-color:  #7da0f9;\n",
       "            color:  #000000;\n",
       "        }    #T_4f5a250a_821e_11ea_89de_1008b1213b0erow0_col4 {\n",
       "            background-color:  #6485ec;\n",
       "            color:  #000000;\n",
       "        }    #T_4f5a250a_821e_11ea_89de_1008b1213b0erow0_col5 {\n",
       "            background-color:  #779af7;\n",
       "            color:  #000000;\n",
       "        }    #T_4f5a250a_821e_11ea_89de_1008b1213b0erow0_col6 {\n",
       "            background-color:  #5e7de7;\n",
       "            color:  #000000;\n",
       "        }    #T_4f5a250a_821e_11ea_89de_1008b1213b0erow0_col7 {\n",
       "            background-color:  #8caffe;\n",
       "            color:  #000000;\n",
       "        }    #T_4f5a250a_821e_11ea_89de_1008b1213b0erow0_col8 {\n",
       "            background-color:  #3b4cc0;\n",
       "            color:  #f1f1f1;\n",
       "        }    #T_4f5a250a_821e_11ea_89de_1008b1213b0erow0_col9 {\n",
       "            background-color:  #3b4cc0;\n",
       "            color:  #f1f1f1;\n",
       "        }    #T_4f5a250a_821e_11ea_89de_1008b1213b0erow1_col0 {\n",
       "            background-color:  #3b4cc0;\n",
       "            color:  #f1f1f1;\n",
       "        }    #T_4f5a250a_821e_11ea_89de_1008b1213b0erow1_col1 {\n",
       "            background-color:  #b40426;\n",
       "            color:  #f1f1f1;\n",
       "        }    #T_4f5a250a_821e_11ea_89de_1008b1213b0erow1_col2 {\n",
       "            background-color:  #93b5fe;\n",
       "            color:  #000000;\n",
       "        }    #T_4f5a250a_821e_11ea_89de_1008b1213b0erow1_col3 {\n",
       "            background-color:  #3b4cc0;\n",
       "            color:  #f1f1f1;\n",
       "        }    #T_4f5a250a_821e_11ea_89de_1008b1213b0erow1_col4 {\n",
       "            background-color:  #3c4ec2;\n",
       "            color:  #f1f1f1;\n",
       "        }    #T_4f5a250a_821e_11ea_89de_1008b1213b0erow1_col5 {\n",
       "            background-color:  #3b4cc0;\n",
       "            color:  #f1f1f1;\n",
       "        }    #T_4f5a250a_821e_11ea_89de_1008b1213b0erow1_col6 {\n",
       "            background-color:  #3b4cc0;\n",
       "            color:  #f1f1f1;\n",
       "        }    #T_4f5a250a_821e_11ea_89de_1008b1213b0erow1_col7 {\n",
       "            background-color:  #3b4cc0;\n",
       "            color:  #f1f1f1;\n",
       "        }    #T_4f5a250a_821e_11ea_89de_1008b1213b0erow1_col8 {\n",
       "            background-color:  #86a9fc;\n",
       "            color:  #000000;\n",
       "        }    #T_4f5a250a_821e_11ea_89de_1008b1213b0erow1_col9 {\n",
       "            background-color:  #6180e9;\n",
       "            color:  #000000;\n",
       "        }    #T_4f5a250a_821e_11ea_89de_1008b1213b0erow2_col0 {\n",
       "            background-color:  #6485ec;\n",
       "            color:  #000000;\n",
       "        }    #T_4f5a250a_821e_11ea_89de_1008b1213b0erow2_col1 {\n",
       "            background-color:  #b5cdfa;\n",
       "            color:  #000000;\n",
       "        }    #T_4f5a250a_821e_11ea_89de_1008b1213b0erow2_col2 {\n",
       "            background-color:  #b40426;\n",
       "            color:  #f1f1f1;\n",
       "        }    #T_4f5a250a_821e_11ea_89de_1008b1213b0erow2_col3 {\n",
       "            background-color:  #92b4fe;\n",
       "            color:  #000000;\n",
       "        }    #T_4f5a250a_821e_11ea_89de_1008b1213b0erow2_col4 {\n",
       "            background-color:  #88abfd;\n",
       "            color:  #000000;\n",
       "        }    #T_4f5a250a_821e_11ea_89de_1008b1213b0erow2_col5 {\n",
       "            background-color:  #7699f6;\n",
       "            color:  #000000;\n",
       "        }    #T_4f5a250a_821e_11ea_89de_1008b1213b0erow2_col6 {\n",
       "            background-color:  #6384eb;\n",
       "            color:  #000000;\n",
       "        }    #T_4f5a250a_821e_11ea_89de_1008b1213b0erow2_col7 {\n",
       "            background-color:  #799cf8;\n",
       "            color:  #000000;\n",
       "        }    #T_4f5a250a_821e_11ea_89de_1008b1213b0erow2_col8 {\n",
       "            background-color:  #5e7de7;\n",
       "            color:  #000000;\n",
       "        }    #T_4f5a250a_821e_11ea_89de_1008b1213b0erow2_col9 {\n",
       "            background-color:  #5875e1;\n",
       "            color:  #000000;\n",
       "        }    #T_4f5a250a_821e_11ea_89de_1008b1213b0erow3_col0 {\n",
       "            background-color:  #97b8ff;\n",
       "            color:  #000000;\n",
       "        }    #T_4f5a250a_821e_11ea_89de_1008b1213b0erow3_col1 {\n",
       "            background-color:  #5875e1;\n",
       "            color:  #000000;\n",
       "        }    #T_4f5a250a_821e_11ea_89de_1008b1213b0erow3_col2 {\n",
       "            background-color:  #85a8fc;\n",
       "            color:  #000000;\n",
       "        }    #T_4f5a250a_821e_11ea_89de_1008b1213b0erow3_col3 {\n",
       "            background-color:  #b40426;\n",
       "            color:  #f1f1f1;\n",
       "        }    #T_4f5a250a_821e_11ea_89de_1008b1213b0erow3_col4 {\n",
       "            background-color:  #f6a283;\n",
       "            color:  #000000;\n",
       "        }    #T_4f5a250a_821e_11ea_89de_1008b1213b0erow3_col5 {\n",
       "            background-color:  #8db0fe;\n",
       "            color:  #000000;\n",
       "        }    #T_4f5a250a_821e_11ea_89de_1008b1213b0erow3_col6 {\n",
       "            background-color:  #6282ea;\n",
       "            color:  #000000;\n",
       "        }    #T_4f5a250a_821e_11ea_89de_1008b1213b0erow3_col7 {\n",
       "            background-color:  #d2dbe8;\n",
       "            color:  #000000;\n",
       "        }    #T_4f5a250a_821e_11ea_89de_1008b1213b0erow3_col8 {\n",
       "            background-color:  #506bda;\n",
       "            color:  #000000;\n",
       "        }    #T_4f5a250a_821e_11ea_89de_1008b1213b0erow3_col9 {\n",
       "            background-color:  #4c66d6;\n",
       "            color:  #000000;\n",
       "        }    #T_4f5a250a_821e_11ea_89de_1008b1213b0erow4_col0 {\n",
       "            background-color:  #82a6fb;\n",
       "            color:  #000000;\n",
       "        }    #T_4f5a250a_821e_11ea_89de_1008b1213b0erow4_col1 {\n",
       "            background-color:  #5a78e4;\n",
       "            color:  #000000;\n",
       "        }    #T_4f5a250a_821e_11ea_89de_1008b1213b0erow4_col2 {\n",
       "            background-color:  #7da0f9;\n",
       "            color:  #000000;\n",
       "        }    #T_4f5a250a_821e_11ea_89de_1008b1213b0erow4_col3 {\n",
       "            background-color:  #f6a283;\n",
       "            color:  #000000;\n",
       "        }    #T_4f5a250a_821e_11ea_89de_1008b1213b0erow4_col4 {\n",
       "            background-color:  #b40426;\n",
       "            color:  #f1f1f1;\n",
       "        }    #T_4f5a250a_821e_11ea_89de_1008b1213b0erow4_col5 {\n",
       "            background-color:  #80a3fa;\n",
       "            color:  #000000;\n",
       "        }    #T_4f5a250a_821e_11ea_89de_1008b1213b0erow4_col6 {\n",
       "            background-color:  #5a78e4;\n",
       "            color:  #000000;\n",
       "        }    #T_4f5a250a_821e_11ea_89de_1008b1213b0erow4_col7 {\n",
       "            background-color:  #b7cff9;\n",
       "            color:  #000000;\n",
       "        }    #T_4f5a250a_821e_11ea_89de_1008b1213b0erow4_col8 {\n",
       "            background-color:  #4f69d9;\n",
       "            color:  #000000;\n",
       "        }    #T_4f5a250a_821e_11ea_89de_1008b1213b0erow4_col9 {\n",
       "            background-color:  #4f69d9;\n",
       "            color:  #000000;\n",
       "        }    #T_4f5a250a_821e_11ea_89de_1008b1213b0erow5_col0 {\n",
       "            background-color:  #7da0f9;\n",
       "            color:  #000000;\n",
       "        }    #T_4f5a250a_821e_11ea_89de_1008b1213b0erow5_col1 {\n",
       "            background-color:  #4055c8;\n",
       "            color:  #f1f1f1;\n",
       "        }    #T_4f5a250a_821e_11ea_89de_1008b1213b0erow5_col2 {\n",
       "            background-color:  #536edd;\n",
       "            color:  #000000;\n",
       "        }    #T_4f5a250a_821e_11ea_89de_1008b1213b0erow5_col3 {\n",
       "            background-color:  #799cf8;\n",
       "            color:  #000000;\n",
       "        }    #T_4f5a250a_821e_11ea_89de_1008b1213b0erow5_col4 {\n",
       "            background-color:  #688aef;\n",
       "            color:  #000000;\n",
       "        }    #T_4f5a250a_821e_11ea_89de_1008b1213b0erow5_col5 {\n",
       "            background-color:  #b40426;\n",
       "            color:  #f1f1f1;\n",
       "        }    #T_4f5a250a_821e_11ea_89de_1008b1213b0erow5_col6 {\n",
       "            background-color:  #c7d7f0;\n",
       "            color:  #000000;\n",
       "        }    #T_4f5a250a_821e_11ea_89de_1008b1213b0erow5_col7 {\n",
       "            background-color:  #85a8fc;\n",
       "            color:  #000000;\n",
       "        }    #T_4f5a250a_821e_11ea_89de_1008b1213b0erow5_col8 {\n",
       "            background-color:  #4c66d6;\n",
       "            color:  #000000;\n",
       "        }    #T_4f5a250a_821e_11ea_89de_1008b1213b0erow5_col9 {\n",
       "            background-color:  #4f69d9;\n",
       "            color:  #000000;\n",
       "        }    #T_4f5a250a_821e_11ea_89de_1008b1213b0erow6_col0 {\n",
       "            background-color:  #6e90f2;\n",
       "            color:  #000000;\n",
       "        }    #T_4f5a250a_821e_11ea_89de_1008b1213b0erow6_col1 {\n",
       "            background-color:  #4a63d3;\n",
       "            color:  #f1f1f1;\n",
       "        }    #T_4f5a250a_821e_11ea_89de_1008b1213b0erow6_col2 {\n",
       "            background-color:  #4a63d3;\n",
       "            color:  #f1f1f1;\n",
       "        }    #T_4f5a250a_821e_11ea_89de_1008b1213b0erow6_col3 {\n",
       "            background-color:  #5572df;\n",
       "            color:  #000000;\n",
       "        }    #T_4f5a250a_821e_11ea_89de_1008b1213b0erow6_col4 {\n",
       "            background-color:  #4b64d5;\n",
       "            color:  #f1f1f1;\n",
       "        }    #T_4f5a250a_821e_11ea_89de_1008b1213b0erow6_col5 {\n",
       "            background-color:  #ccd9ed;\n",
       "            color:  #000000;\n",
       "        }    #T_4f5a250a_821e_11ea_89de_1008b1213b0erow6_col6 {\n",
       "            background-color:  #b40426;\n",
       "            color:  #f1f1f1;\n",
       "        }    #T_4f5a250a_821e_11ea_89de_1008b1213b0erow6_col7 {\n",
       "            background-color:  #5a78e4;\n",
       "            color:  #000000;\n",
       "        }    #T_4f5a250a_821e_11ea_89de_1008b1213b0erow6_col8 {\n",
       "            background-color:  #485fd1;\n",
       "            color:  #f1f1f1;\n",
       "        }    #T_4f5a250a_821e_11ea_89de_1008b1213b0erow6_col9 {\n",
       "            background-color:  #4961d2;\n",
       "            color:  #f1f1f1;\n",
       "        }    #T_4f5a250a_821e_11ea_89de_1008b1213b0erow7_col0 {\n",
       "            background-color:  #9bbcff;\n",
       "            color:  #000000;\n",
       "        }    #T_4f5a250a_821e_11ea_89de_1008b1213b0erow7_col1 {\n",
       "            background-color:  #4e68d8;\n",
       "            color:  #000000;\n",
       "        }    #T_4f5a250a_821e_11ea_89de_1008b1213b0erow7_col2 {\n",
       "            background-color:  #6384eb;\n",
       "            color:  #000000;\n",
       "        }    #T_4f5a250a_821e_11ea_89de_1008b1213b0erow7_col3 {\n",
       "            background-color:  #ccd9ed;\n",
       "            color:  #000000;\n",
       "        }    #T_4f5a250a_821e_11ea_89de_1008b1213b0erow7_col4 {\n",
       "            background-color:  #aec9fc;\n",
       "            color:  #000000;\n",
       "        }    #T_4f5a250a_821e_11ea_89de_1008b1213b0erow7_col5 {\n",
       "            background-color:  #90b2fe;\n",
       "            color:  #000000;\n",
       "        }    #T_4f5a250a_821e_11ea_89de_1008b1213b0erow7_col6 {\n",
       "            background-color:  #5d7ce6;\n",
       "            color:  #000000;\n",
       "        }    #T_4f5a250a_821e_11ea_89de_1008b1213b0erow7_col7 {\n",
       "            background-color:  #b40426;\n",
       "            color:  #f1f1f1;\n",
       "        }    #T_4f5a250a_821e_11ea_89de_1008b1213b0erow7_col8 {\n",
       "            background-color:  #4358cb;\n",
       "            color:  #f1f1f1;\n",
       "        }    #T_4f5a250a_821e_11ea_89de_1008b1213b0erow7_col9 {\n",
       "            background-color:  #4055c8;\n",
       "            color:  #f1f1f1;\n",
       "        }    #T_4f5a250a_821e_11ea_89de_1008b1213b0erow8_col0 {\n",
       "            background-color:  #445acc;\n",
       "            color:  #f1f1f1;\n",
       "        }    #T_4f5a250a_821e_11ea_89de_1008b1213b0erow8_col1 {\n",
       "            background-color:  #90b2fe;\n",
       "            color:  #000000;\n",
       "        }    #T_4f5a250a_821e_11ea_89de_1008b1213b0erow8_col2 {\n",
       "            background-color:  #3d50c3;\n",
       "            color:  #f1f1f1;\n",
       "        }    #T_4f5a250a_821e_11ea_89de_1008b1213b0erow8_col3 {\n",
       "            background-color:  #3d50c3;\n",
       "            color:  #f1f1f1;\n",
       "        }    #T_4f5a250a_821e_11ea_89de_1008b1213b0erow8_col4 {\n",
       "            background-color:  #3b4cc0;\n",
       "            color:  #f1f1f1;\n",
       "        }    #T_4f5a250a_821e_11ea_89de_1008b1213b0erow8_col5 {\n",
       "            background-color:  #4f69d9;\n",
       "            color:  #000000;\n",
       "        }    #T_4f5a250a_821e_11ea_89de_1008b1213b0erow8_col6 {\n",
       "            background-color:  #4257c9;\n",
       "            color:  #f1f1f1;\n",
       "        }    #T_4f5a250a_821e_11ea_89de_1008b1213b0erow8_col7 {\n",
       "            background-color:  #3b4cc0;\n",
       "            color:  #f1f1f1;\n",
       "        }    #T_4f5a250a_821e_11ea_89de_1008b1213b0erow8_col8 {\n",
       "            background-color:  #b40426;\n",
       "            color:  #f1f1f1;\n",
       "        }    #T_4f5a250a_821e_11ea_89de_1008b1213b0erow8_col9 {\n",
       "            background-color:  #b2ccfb;\n",
       "            color:  #000000;\n",
       "        }    #T_4f5a250a_821e_11ea_89de_1008b1213b0erow9_col0 {\n",
       "            background-color:  #4961d2;\n",
       "            color:  #f1f1f1;\n",
       "        }    #T_4f5a250a_821e_11ea_89de_1008b1213b0erow9_col1 {\n",
       "            background-color:  #6f92f3;\n",
       "            color:  #000000;\n",
       "        }    #T_4f5a250a_821e_11ea_89de_1008b1213b0erow9_col2 {\n",
       "            background-color:  #3c4ec2;\n",
       "            color:  #f1f1f1;\n",
       "        }    #T_4f5a250a_821e_11ea_89de_1008b1213b0erow9_col3 {\n",
       "            background-color:  #3e51c5;\n",
       "            color:  #f1f1f1;\n",
       "        }    #T_4f5a250a_821e_11ea_89de_1008b1213b0erow9_col4 {\n",
       "            background-color:  #3e51c5;\n",
       "            color:  #f1f1f1;\n",
       "        }    #T_4f5a250a_821e_11ea_89de_1008b1213b0erow9_col5 {\n",
       "            background-color:  #5875e1;\n",
       "            color:  #000000;\n",
       "        }    #T_4f5a250a_821e_11ea_89de_1008b1213b0erow9_col6 {\n",
       "            background-color:  #465ecf;\n",
       "            color:  #f1f1f1;\n",
       "        }    #T_4f5a250a_821e_11ea_89de_1008b1213b0erow9_col7 {\n",
       "            background-color:  #3d50c3;\n",
       "            color:  #f1f1f1;\n",
       "        }    #T_4f5a250a_821e_11ea_89de_1008b1213b0erow9_col8 {\n",
       "            background-color:  #b6cefa;\n",
       "            color:  #000000;\n",
       "        }    #T_4f5a250a_821e_11ea_89de_1008b1213b0erow9_col9 {\n",
       "            background-color:  #b40426;\n",
       "            color:  #f1f1f1;\n",
       "        }</style><table id=\"T_4f5a250a_821e_11ea_89de_1008b1213b0e\" ><thead>    <tr>        <th class=\"blank level0\" ></th>        <th class=\"col_heading level0 col0\" >age</th>        <th class=\"col_heading level0 col1\" >height</th>        <th class=\"col_heading level0 col2\" >weight</th>        <th class=\"col_heading level0 col3\" >ap_hi</th>        <th class=\"col_heading level0 col4\" >ap_lo</th>        <th class=\"col_heading level0 col5\" >cholesterol</th>        <th class=\"col_heading level0 col6\" >gluc</th>        <th class=\"col_heading level0 col7\" >cardio</th>        <th class=\"col_heading level0 col8\" >smoke</th>        <th class=\"col_heading level0 col9\" >alco</th>    </tr></thead><tbody>\n",
       "                <tr>\n",
       "                        <th id=\"T_4f5a250a_821e_11ea_89de_1008b1213b0elevel0_row0\" class=\"row_heading level0 row0\" >age</th>\n",
       "                        <td id=\"T_4f5a250a_821e_11ea_89de_1008b1213b0erow0_col0\" class=\"data row0 col0\" >1</td>\n",
       "                        <td id=\"T_4f5a250a_821e_11ea_89de_1008b1213b0erow0_col1\" class=\"data row0 col1\" >-0.0822923</td>\n",
       "                        <td id=\"T_4f5a250a_821e_11ea_89de_1008b1213b0erow0_col2\" class=\"data row0 col2\" >0.0615589</td>\n",
       "                        <td id=\"T_4f5a250a_821e_11ea_89de_1008b1213b0erow0_col3\" class=\"data row0 col3\" >0.219087</td>\n",
       "                        <td id=\"T_4f5a250a_821e_11ea_89de_1008b1213b0erow0_col4\" class=\"data row0 col4\" >0.1567</td>\n",
       "                        <td id=\"T_4f5a250a_821e_11ea_89de_1008b1213b0erow0_col5\" class=\"data row0 col5\" >0.140113</td>\n",
       "                        <td id=\"T_4f5a250a_821e_11ea_89de_1008b1213b0erow0_col6\" class=\"data row0 col6\" >0.0917914</td>\n",
       "                        <td id=\"T_4f5a250a_821e_11ea_89de_1008b1213b0erow0_col7\" class=\"data row0 col7\" >0.234429</td>\n",
       "                        <td id=\"T_4f5a250a_821e_11ea_89de_1008b1213b0erow0_col8\" class=\"data row0 col8\" >-0.0474714</td>\n",
       "                        <td id=\"T_4f5a250a_821e_11ea_89de_1008b1213b0erow0_col9\" class=\"data row0 col9\" >-0.0300784</td>\n",
       "            </tr>\n",
       "            <tr>\n",
       "                        <th id=\"T_4f5a250a_821e_11ea_89de_1008b1213b0elevel0_row1\" class=\"row_heading level0 row1\" >height</th>\n",
       "                        <td id=\"T_4f5a250a_821e_11ea_89de_1008b1213b0erow1_col0\" class=\"data row1 col0\" >-0.0822923</td>\n",
       "                        <td id=\"T_4f5a250a_821e_11ea_89de_1008b1213b0erow1_col1\" class=\"data row1 col1\" >1</td>\n",
       "                        <td id=\"T_4f5a250a_821e_11ea_89de_1008b1213b0erow1_col2\" class=\"data row1 col2\" >0.313569</td>\n",
       "                        <td id=\"T_4f5a250a_821e_11ea_89de_1008b1213b0erow1_col3\" class=\"data row1 col3\" >0.0193813</td>\n",
       "                        <td id=\"T_4f5a250a_821e_11ea_89de_1008b1213b0erow1_col4\" class=\"data row1 col4\" >0.0305338</td>\n",
       "                        <td id=\"T_4f5a250a_821e_11ea_89de_1008b1213b0erow1_col5\" class=\"data row1 col5\" >-0.0589404</td>\n",
       "                        <td id=\"T_4f5a250a_821e_11ea_89de_1008b1213b0erow1_col6\" class=\"data row1 col6\" >-0.0243691</td>\n",
       "                        <td id=\"T_4f5a250a_821e_11ea_89de_1008b1213b0erow1_col7\" class=\"data row1 col7\" >-0.0123833</td>\n",
       "                        <td id=\"T_4f5a250a_821e_11ea_89de_1008b1213b0erow1_col8\" class=\"data row1 col8\" >0.197632</td>\n",
       "                        <td id=\"T_4f5a250a_821e_11ea_89de_1008b1213b0erow1_col9\" class=\"data row1 col9\" >0.0966698</td>\n",
       "            </tr>\n",
       "            <tr>\n",
       "                        <th id=\"T_4f5a250a_821e_11ea_89de_1008b1213b0elevel0_row2\" class=\"row_heading level0 row2\" >weight</th>\n",
       "                        <td id=\"T_4f5a250a_821e_11ea_89de_1008b1213b0erow2_col0\" class=\"data row2 col0\" >0.0615589</td>\n",
       "                        <td id=\"T_4f5a250a_821e_11ea_89de_1008b1213b0erow2_col1\" class=\"data row2 col1\" >0.313569</td>\n",
       "                        <td id=\"T_4f5a250a_821e_11ea_89de_1008b1213b0erow2_col2\" class=\"data row2 col2\" >1</td>\n",
       "                        <td id=\"T_4f5a250a_821e_11ea_89de_1008b1213b0erow2_col3\" class=\"data row2 col3\" >0.277749</td>\n",
       "                        <td id=\"T_4f5a250a_821e_11ea_89de_1008b1213b0erow2_col4\" class=\"data row2 col4\" >0.25442</td>\n",
       "                        <td id=\"T_4f5a250a_821e_11ea_89de_1008b1213b0erow2_col5\" class=\"data row2 col5\" >0.137908</td>\n",
       "                        <td id=\"T_4f5a250a_821e_11ea_89de_1008b1213b0erow2_col6\" class=\"data row2 col6\" >0.109901</td>\n",
       "                        <td id=\"T_4f5a250a_821e_11ea_89de_1008b1213b0erow2_col7\" class=\"data row2 col7\" >0.182701</td>\n",
       "                        <td id=\"T_4f5a250a_821e_11ea_89de_1008b1213b0erow2_col8\" class=\"data row2 col8\" >0.0716756</td>\n",
       "                        <td id=\"T_4f5a250a_821e_11ea_89de_1008b1213b0erow2_col9\" class=\"data row2 col9\" >0.0680878</td>\n",
       "            </tr>\n",
       "            <tr>\n",
       "                        <th id=\"T_4f5a250a_821e_11ea_89de_1008b1213b0elevel0_row3\" class=\"row_heading level0 row3\" >ap_hi</th>\n",
       "                        <td id=\"T_4f5a250a_821e_11ea_89de_1008b1213b0erow3_col0\" class=\"data row3 col0\" >0.219087</td>\n",
       "                        <td id=\"T_4f5a250a_821e_11ea_89de_1008b1213b0erow3_col1\" class=\"data row3 col1\" >0.0193813</td>\n",
       "                        <td id=\"T_4f5a250a_821e_11ea_89de_1008b1213b0erow3_col2\" class=\"data row3 col2\" >0.277749</td>\n",
       "                        <td id=\"T_4f5a250a_821e_11ea_89de_1008b1213b0erow3_col3\" class=\"data row3 col3\" >1</td>\n",
       "                        <td id=\"T_4f5a250a_821e_11ea_89de_1008b1213b0erow3_col4\" class=\"data row3 col4\" >0.735436</td>\n",
       "                        <td id=\"T_4f5a250a_821e_11ea_89de_1008b1213b0erow3_col5\" class=\"data row3 col5\" >0.208722</td>\n",
       "                        <td id=\"T_4f5a250a_821e_11ea_89de_1008b1213b0erow3_col6\" class=\"data row3 col6\" >0.105334</td>\n",
       "                        <td id=\"T_4f5a250a_821e_11ea_89de_1008b1213b0erow3_col7\" class=\"data row3 col7\" >0.451885</td>\n",
       "                        <td id=\"T_4f5a250a_821e_11ea_89de_1008b1213b0erow3_col8\" class=\"data row3 col8\" >0.0289286</td>\n",
       "                        <td id=\"T_4f5a250a_821e_11ea_89de_1008b1213b0erow3_col9\" class=\"data row3 col9\" >0.0332428</td>\n",
       "            </tr>\n",
       "            <tr>\n",
       "                        <th id=\"T_4f5a250a_821e_11ea_89de_1008b1213b0elevel0_row4\" class=\"row_heading level0 row4\" >ap_lo</th>\n",
       "                        <td id=\"T_4f5a250a_821e_11ea_89de_1008b1213b0erow4_col0\" class=\"data row4 col0\" >0.1567</td>\n",
       "                        <td id=\"T_4f5a250a_821e_11ea_89de_1008b1213b0erow4_col1\" class=\"data row4 col1\" >0.0305338</td>\n",
       "                        <td id=\"T_4f5a250a_821e_11ea_89de_1008b1213b0erow4_col2\" class=\"data row4 col2\" >0.25442</td>\n",
       "                        <td id=\"T_4f5a250a_821e_11ea_89de_1008b1213b0erow4_col3\" class=\"data row4 col3\" >0.735436</td>\n",
       "                        <td id=\"T_4f5a250a_821e_11ea_89de_1008b1213b0erow4_col4\" class=\"data row4 col4\" >1</td>\n",
       "                        <td id=\"T_4f5a250a_821e_11ea_89de_1008b1213b0erow4_col5\" class=\"data row4 col5\" >0.167401</td>\n",
       "                        <td id=\"T_4f5a250a_821e_11ea_89de_1008b1213b0erow4_col6\" class=\"data row4 col6\" >0.0824736</td>\n",
       "                        <td id=\"T_4f5a250a_821e_11ea_89de_1008b1213b0erow4_col7\" class=\"data row4 col7\" >0.362572</td>\n",
       "                        <td id=\"T_4f5a250a_821e_11ea_89de_1008b1213b0erow4_col8\" class=\"data row4 col8\" >0.0261717</td>\n",
       "                        <td id=\"T_4f5a250a_821e_11ea_89de_1008b1213b0erow4_col9\" class=\"data row4 col9\" >0.038862</td>\n",
       "            </tr>\n",
       "            <tr>\n",
       "                        <th id=\"T_4f5a250a_821e_11ea_89de_1008b1213b0elevel0_row5\" class=\"row_heading level0 row5\" >cholesterol</th>\n",
       "                        <td id=\"T_4f5a250a_821e_11ea_89de_1008b1213b0erow5_col0\" class=\"data row5 col0\" >0.140113</td>\n",
       "                        <td id=\"T_4f5a250a_821e_11ea_89de_1008b1213b0erow5_col1\" class=\"data row5 col1\" >-0.0589404</td>\n",
       "                        <td id=\"T_4f5a250a_821e_11ea_89de_1008b1213b0erow5_col2\" class=\"data row5 col2\" >0.137908</td>\n",
       "                        <td id=\"T_4f5a250a_821e_11ea_89de_1008b1213b0erow5_col3\" class=\"data row5 col3\" >0.208722</td>\n",
       "                        <td id=\"T_4f5a250a_821e_11ea_89de_1008b1213b0erow5_col4\" class=\"data row5 col4\" >0.167401</td>\n",
       "                        <td id=\"T_4f5a250a_821e_11ea_89de_1008b1213b0erow5_col5\" class=\"data row5 col5\" >1</td>\n",
       "                        <td id=\"T_4f5a250a_821e_11ea_89de_1008b1213b0erow5_col6\" class=\"data row5 col6\" >0.407803</td>\n",
       "                        <td id=\"T_4f5a250a_821e_11ea_89de_1008b1213b0erow5_col7\" class=\"data row5 col7\" >0.215117</td>\n",
       "                        <td id=\"T_4f5a250a_821e_11ea_89de_1008b1213b0erow5_col8\" class=\"data row5 col8\" >0.0152196</td>\n",
       "                        <td id=\"T_4f5a250a_821e_11ea_89de_1008b1213b0erow5_col9\" class=\"data row5 col9\" >0.0412854</td>\n",
       "            </tr>\n",
       "            <tr>\n",
       "                        <th id=\"T_4f5a250a_821e_11ea_89de_1008b1213b0elevel0_row6\" class=\"row_heading level0 row6\" >gluc</th>\n",
       "                        <td id=\"T_4f5a250a_821e_11ea_89de_1008b1213b0erow6_col0\" class=\"data row6 col0\" >0.0917914</td>\n",
       "                        <td id=\"T_4f5a250a_821e_11ea_89de_1008b1213b0erow6_col1\" class=\"data row6 col1\" >-0.0243691</td>\n",
       "                        <td id=\"T_4f5a250a_821e_11ea_89de_1008b1213b0erow6_col2\" class=\"data row6 col2\" >0.109901</td>\n",
       "                        <td id=\"T_4f5a250a_821e_11ea_89de_1008b1213b0erow6_col3\" class=\"data row6 col3\" >0.105334</td>\n",
       "                        <td id=\"T_4f5a250a_821e_11ea_89de_1008b1213b0erow6_col4\" class=\"data row6 col4\" >0.0824736</td>\n",
       "                        <td id=\"T_4f5a250a_821e_11ea_89de_1008b1213b0erow6_col5\" class=\"data row6 col5\" >0.407803</td>\n",
       "                        <td id=\"T_4f5a250a_821e_11ea_89de_1008b1213b0erow6_col6\" class=\"data row6 col6\" >1</td>\n",
       "                        <td id=\"T_4f5a250a_821e_11ea_89de_1008b1213b0erow6_col7\" class=\"data row6 col7\" >0.0914876</td>\n",
       "                        <td id=\"T_4f5a250a_821e_11ea_89de_1008b1213b0erow6_col8\" class=\"data row6 col8\" >0.000467966</td>\n",
       "                        <td id=\"T_4f5a250a_821e_11ea_89de_1008b1213b0erow6_col9\" class=\"data row6 col9\" >0.0185844</td>\n",
       "            </tr>\n",
       "            <tr>\n",
       "                        <th id=\"T_4f5a250a_821e_11ea_89de_1008b1213b0elevel0_row7\" class=\"row_heading level0 row7\" >cardio</th>\n",
       "                        <td id=\"T_4f5a250a_821e_11ea_89de_1008b1213b0erow7_col0\" class=\"data row7 col0\" >0.234429</td>\n",
       "                        <td id=\"T_4f5a250a_821e_11ea_89de_1008b1213b0erow7_col1\" class=\"data row7 col1\" >-0.0123833</td>\n",
       "                        <td id=\"T_4f5a250a_821e_11ea_89de_1008b1213b0erow7_col2\" class=\"data row7 col2\" >0.182701</td>\n",
       "                        <td id=\"T_4f5a250a_821e_11ea_89de_1008b1213b0erow7_col3\" class=\"data row7 col3\" >0.451885</td>\n",
       "                        <td id=\"T_4f5a250a_821e_11ea_89de_1008b1213b0erow7_col4\" class=\"data row7 col4\" >0.362572</td>\n",
       "                        <td id=\"T_4f5a250a_821e_11ea_89de_1008b1213b0erow7_col5\" class=\"data row7 col5\" >0.215117</td>\n",
       "                        <td id=\"T_4f5a250a_821e_11ea_89de_1008b1213b0erow7_col6\" class=\"data row7 col6\" >0.0914876</td>\n",
       "                        <td id=\"T_4f5a250a_821e_11ea_89de_1008b1213b0erow7_col7\" class=\"data row7 col7\" >1</td>\n",
       "                        <td id=\"T_4f5a250a_821e_11ea_89de_1008b1213b0erow7_col8\" class=\"data row7 col8\" >-0.0154859</td>\n",
       "                        <td id=\"T_4f5a250a_821e_11ea_89de_1008b1213b0erow7_col9\" class=\"data row7 col9\" >-0.00733023</td>\n",
       "            </tr>\n",
       "            <tr>\n",
       "                        <th id=\"T_4f5a250a_821e_11ea_89de_1008b1213b0elevel0_row8\" class=\"row_heading level0 row8\" >smoke</th>\n",
       "                        <td id=\"T_4f5a250a_821e_11ea_89de_1008b1213b0erow8_col0\" class=\"data row8 col0\" >-0.0474714</td>\n",
       "                        <td id=\"T_4f5a250a_821e_11ea_89de_1008b1213b0erow8_col1\" class=\"data row8 col1\" >0.197632</td>\n",
       "                        <td id=\"T_4f5a250a_821e_11ea_89de_1008b1213b0erow8_col2\" class=\"data row8 col2\" >0.0716756</td>\n",
       "                        <td id=\"T_4f5a250a_821e_11ea_89de_1008b1213b0erow8_col3\" class=\"data row8 col3\" >0.0289286</td>\n",
       "                        <td id=\"T_4f5a250a_821e_11ea_89de_1008b1213b0erow8_col4\" class=\"data row8 col4\" >0.0261717</td>\n",
       "                        <td id=\"T_4f5a250a_821e_11ea_89de_1008b1213b0erow8_col5\" class=\"data row8 col5\" >0.0152196</td>\n",
       "                        <td id=\"T_4f5a250a_821e_11ea_89de_1008b1213b0erow8_col6\" class=\"data row8 col6\" >0.000467966</td>\n",
       "                        <td id=\"T_4f5a250a_821e_11ea_89de_1008b1213b0erow8_col7\" class=\"data row8 col7\" >-0.0154859</td>\n",
       "                        <td id=\"T_4f5a250a_821e_11ea_89de_1008b1213b0erow8_col8\" class=\"data row8 col8\" >1</td>\n",
       "                        <td id=\"T_4f5a250a_821e_11ea_89de_1008b1213b0erow8_col9\" class=\"data row8 col9\" >0.340094</td>\n",
       "            </tr>\n",
       "            <tr>\n",
       "                        <th id=\"T_4f5a250a_821e_11ea_89de_1008b1213b0elevel0_row9\" class=\"row_heading level0 row9\" >alco</th>\n",
       "                        <td id=\"T_4f5a250a_821e_11ea_89de_1008b1213b0erow9_col0\" class=\"data row9 col0\" >-0.0300784</td>\n",
       "                        <td id=\"T_4f5a250a_821e_11ea_89de_1008b1213b0erow9_col1\" class=\"data row9 col1\" >0.0966698</td>\n",
       "                        <td id=\"T_4f5a250a_821e_11ea_89de_1008b1213b0erow9_col2\" class=\"data row9 col2\" >0.0680878</td>\n",
       "                        <td id=\"T_4f5a250a_821e_11ea_89de_1008b1213b0erow9_col3\" class=\"data row9 col3\" >0.0332428</td>\n",
       "                        <td id=\"T_4f5a250a_821e_11ea_89de_1008b1213b0erow9_col4\" class=\"data row9 col4\" >0.038862</td>\n",
       "                        <td id=\"T_4f5a250a_821e_11ea_89de_1008b1213b0erow9_col5\" class=\"data row9 col5\" >0.0412854</td>\n",
       "                        <td id=\"T_4f5a250a_821e_11ea_89de_1008b1213b0erow9_col6\" class=\"data row9 col6\" >0.0185844</td>\n",
       "                        <td id=\"T_4f5a250a_821e_11ea_89de_1008b1213b0erow9_col7\" class=\"data row9 col7\" >-0.00733023</td>\n",
       "                        <td id=\"T_4f5a250a_821e_11ea_89de_1008b1213b0erow9_col8\" class=\"data row9 col8\" >0.340094</td>\n",
       "                        <td id=\"T_4f5a250a_821e_11ea_89de_1008b1213b0erow9_col9\" class=\"data row9 col9\" >1</td>\n",
       "            </tr>\n",
       "    </tbody></table>"
      ],
      "text/plain": [
       "<pandas.io.formats.style.Styler at 0x20f06d3fa88>"
      ]
     },
     "execution_count": 38,
     "metadata": {},
     "output_type": "execute_result"
    }
   ],
   "source": [
    "corr = df[['age', 'height', 'weight', 'ap_hi', 'ap_lo', 'cholesterol', 'gluc', 'cardio', 'smoke', 'alco']].corr(method = 'spearman')\n",
    "corr.style.background_gradient(cmap='coolwarm')"
   ]
  },
  {
   "cell_type": "markdown",
   "metadata": {},
   "source": [
    "**Question 2.2. (1 point).** Which pair of features has the strongest Spearman correlation?\n",
    "\n",
    "1. Height, Weight\n",
    "2. Age, Weight\n",
    "3. Cholesterol, Gluc\n",
    "4. Cardio, Cholesterol\n",
    "5. Ap_hi, Ap_lo\n",
    "6. Smoke, Alco"
   ]
  },
  {
   "cell_type": "code",
   "execution_count": 39,
   "metadata": {},
   "outputs": [],
   "source": [
    "# 5th pair of features has the strongest Spearman correlation"
   ]
  },
  {
   "cell_type": "markdown",
   "metadata": {},
   "source": [
    "## 2.3. Rank correlation\n",
    "\n",
    "In most cases, *the Pearson coefficient of linear correlation* is more than enough to discover patterns in data. \n",
    "But let's go a little further and calculate a [rank correlation](https://en.wikipedia.org/wiki/Rank_correlation). It will help us to identify such feature pairs in which the lower rank in the variational series of one feature always precedes the higher rank in the another one (and we have the opposite in the case of negative correlation).\n",
    "\n",
    "### Task:\n",
    "\n",
    "Calculate and plot a correlation matrix using the [Spearman's rank correlation coefficient](https://en.wikipedia.org/wiki/Spearman%27s_rank_correlation_coefficient).\n"
   ]
  },
  {
   "cell_type": "markdown",
   "metadata": {
    "_uuid": "2282d0651afdbe69cdb68b266e509f20a865a63f"
   },
   "source": [
    "**Question 2.3. (1 point).** Why do these features have strong rank correlation?\n",
    "\n",
    "1. Inaccuracies in the data (data acquisition errors).\n",
    "2. Relation is wrong, these features should not be related.\n",
    "3. Nature of the data."
   ]
  },
  {
   "cell_type": "code",
   "execution_count": 40,
   "metadata": {},
   "outputs": [],
   "source": [
    "# The answer is 3. Nature of the data"
   ]
  },
  {
   "cell_type": "markdown",
   "metadata": {
    "_uuid": "25b4b303156fd6f9178c9b23fba4ff3f220a5977"
   },
   "source": [
    "## 2.4. Age\n",
    "\n",
    "Previously, we calculated the age of the respondents in years at the moment of examination."
   ]
  },
  {
   "cell_type": "markdown",
   "metadata": {
    "_uuid": "d48bb97cba3968e7f73c790226278f6fa818871b"
   },
   "source": [
    "### Task:\n",
    "\n",
    "Create a *count plot* using [`countplot()`](http://seaborn.pydata.org/generated/seaborn.countplot.html) with the age on the *X* axis and the number of people on the *Y* axis. Your resulting plot should have two columns for each age, corresponding to the number of people for each *cardio* class of that age."
   ]
  },
  {
   "cell_type": "code",
   "execution_count": 41,
   "metadata": {
    "_uuid": "fd07f3aab9891fd86228d5880a7a38cc88b282ba"
   },
   "outputs": [
    {
     "data": {
      "text/plain": [
       "<matplotlib.axes._subplots.AxesSubplot at 0x20f0840da08>"
      ]
     },
     "execution_count": 41,
     "metadata": {},
     "output_type": "execute_result"
    },
    {
     "data": {
      "image/png": "[encoded data removed]",
      "text/plain": [
       "<Figure size 792x576 with 1 Axes>"
      ]
     },
     "metadata": {
      "needs_background": "light"
     },
     "output_type": "display_data"
    }
   ],
   "source": [
    "sns.countplot(x = \"age_years\", hue = \"cardio\", data = df)"
   ]
  },
  {
   "cell_type": "markdown",
   "metadata": {
    "_uuid": "49557c7bd46d729c27aa8190df65cc25e45e7528"
   },
   "source": [
    "**Question 2.4. (1 point).** What is the smallest age at which the number of people with CVD outnumber the number of people without CVD?\n",
    "\n",
    "1. 44\n",
    "2. 55\n",
    "3. 64\n",
    "4. 70"
   ]
  },
  {
   "cell_type": "code",
   "execution_count": 42,
   "metadata": {},
   "outputs": [],
   "source": [
    "#The answer is 55"
   ]
  }
 ],
 "metadata": {
  "anaconda-cloud": {},
  "kernelspec": {
   "display_name": "Python 3",
   "language": "python",
   "name": "python3"
  },
  "language_info": {
   "codemirror_mode": {
    "name": "ipython",
    "version": 3
   },
   "file_extension": ".py",
   "mimetype": "text/x-python",
   "name": "python",
   "nbconvert_exporter": "python",
   "pygments_lexer": "ipython3",
   "version": "3.7.4"
  }
 },
 "nbformat": 4,
 "nbformat_minor": 4
}
